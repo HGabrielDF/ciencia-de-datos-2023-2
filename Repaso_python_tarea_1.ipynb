{
 "cells": [
  {
   "cell_type": "markdown",
   "id": "5460c487",
   "metadata": {},
   "source": [
    "## Tarea 1: Repaso de los conceptos básicos de Python\n",
    "### Ciencia de datos para físicos: Facultad de ciencias, UNAM\n",
    "#### Profesores: Karen Rubí Jiménez-López, Pedro Arturo Flores-Silva\n",
    "\n",
    "**Instrucciones:** Este notebook contiene una serie de ejercicios que deben ser resueltos. Cada ejercicio se encuentra en una celda, ya sea de código o Markdown. Debes crear una o dos *celdas debajo de cada ejercicio* con tu(s) respectiva(s) respuestas. No modifiques las celdas originales.\n",
    "\n",
    "Recuerda que para ejecutar el código de una celda, presionar `Ctlr + Enter` o bien el boton de `play` en el editor Jupyter notebook.\n",
    "\n",
    "Cada ejercicio tendrá diferente valor, y se indicará en la celda de éste. La calificación final será la suma de los puntos obtenidos en cada ejercicio. Se calificará considerando la calidad de la respuesta, la claridad de la explicación y la correctitud del código. Por ejemplo, si el código no ejecuta la respuesta correcta pero se da una idea textual, se demuestra que hay comprensión del problema y el código hace sentido para el revisor, se otorgará una calificación parcial. Esto es, las respuestas no solo se evaluarán como bien o mal, sino que se considerará el esfuerzo.\n",
    "\n",
    "El codigo que realices debes comentarlo donde creas necesario, no vale no hacer ningún comentario. Recuerda que los comentarios son importantes para que el código sea legible y entendible, éstos se agregan con el símbolo #. Para las funciones y/o clases que crees, agrega la documentación correspondiente (docstring), éste se agrega con `\"\"\" docstring \"\"\"`."
   ]
  },
  {
   "cell_type": "markdown",
   "id": "66df713a",
   "metadata": {},
   "source": [
    "### Ejercicio 1 (1 punto):\n",
    "En una celda Markdown contesta: \n",
    "* ¿Qué es una palabra reservada en python? Enlista 5 ejemplos de nombres reservados en python y describe su función.\n",
    "* Coloca tres ejemplos de nombres de variables que no son válidos en python. Explica por qué no son válidos."
   ]
  },
  {
   "cell_type": "markdown",
   "id": "cd628efe",
   "metadata": {},
   "source": [
    "Una palabra reservada es aquella que tiene una finalidad específica dentro de Python y que se utiliza para darle la estructura al código. Cienco ejemplos de palabras reservadas son: 1) \"import\", que es utilizado para llamar a las librerías y paqueterías que se utilizarán en el código; 2)\"if\", es un condicional y se utiliza para hacer que se ejecute una parte del código siempre y cuando se cumpla una condición; 3)\"True\", es una palabra utilizada para darle el valor a una variable booleana, es equivalente al 1: 4)\"None\" es una palabra reservada que se utiliza para darle un valor nulo o vacío a una variable en Python; y 5)\"break\", se utiliza para romper un ciclo."
   ]
  },
  {
   "cell_type": "markdown",
   "id": "97ea08cd",
   "metadata": {},
   "source": [
    "Por ejemplo, las palabras \"int\", \"float\" y \"while\" no pueden ser variables porque son palabras reservadas."
   ]
  },
  {
   "cell_type": "markdown",
   "id": "8f4fd89b",
   "metadata": {},
   "source": [
    "### Ejercicio 2 (1 punto):\n",
    "\n",
    "En una celda de código, escribe una función que encuentre las raíces de cualquier polinomio de segundo grado (implementar la chicharronera). En una celda markdown detalla posibles casos en la cual la función podría fallar.\n",
    "Usa dicha función para encontrar las raíces del polinomio $f(x) = 10x^2 - 2x$ e imprimelas en pantalla."
   ]
  },
  {
   "cell_type": "code",
   "execution_count": 21,
   "id": "2bca2195",
   "metadata": {},
   "outputs": [],
   "source": [
    "from numpy import sqrt\n",
    "\n",
    "\n",
    "def chicharronera(a):\n",
    "    \n",
    "    \"\"\"La función 'chicharronera' utiliza como argumento listas cuyas entradas sean flotantes\"\"\"\n",
    "        \n",
    "    if type(a) is list:\n",
    "        \n",
    "        for A in a:\n",
    "            \n",
    "            try:\n",
    "                \n",
    "                y = float(A)\n",
    "                \n",
    "            except:\n",
    "                \n",
    "                print('Los coeficientes deben ser valores flotantes.')\n",
    "                \n",
    "            else:\n",
    "                continue\n",
    "                \n",
    "\n",
    "        d = a[1]**2 - 4 * a[0] * a[2]\n",
    "\n",
    "        if d >= 0:\n",
    "\n",
    "            x1, x2 = ( (1 / (2 * a[0])) * (-a[1] + sqrt(a[1]**2 - 4 * a[0] * a[2])), \\\n",
    "                (1 / (2 * a[0])) * (-a[1] - sqrt(a[1]**2 - 4 * a[0] * a[2])) )\n",
    "\n",
    "            return x1, x2\n",
    "\n",
    "        else:\n",
    "            print('El polinomio no tiene raíces reales.')\n",
    "            \n",
    "    else:\n",
    "        print('Los coeficientes se deben de ingresar en forma de lista con entradas flotantes.')\n",
    "        \n",
    "    \n",
    "    \n",
    "        "
   ]
  },
  {
   "cell_type": "code",
   "execution_count": 22,
   "id": "bb54f5f6",
   "metadata": {},
   "outputs": [
    {
     "name": "stdout",
     "output_type": "stream",
     "text": [
      "Los coeficientes deben ser valores flotantes.\n",
      "Los coeficientes deben ser valores flotantes.\n"
     ]
    },
    {
     "ename": "TypeError",
     "evalue": "unsupported operand type(s) for ** or pow(): 'str' and 'int'",
     "output_type": "error",
     "traceback": [
      "\u001b[0;31m---------------------------------------------------------------------------\u001b[0m",
      "\u001b[0;31mTypeError\u001b[0m                                 Traceback (most recent call last)",
      "\u001b[0;32m/var/folders/6y/42g8hr915b3dbgybzk8z69wh0000gn/T/ipykernel_31892/2442338176.py\u001b[0m in \u001b[0;36m<module>\u001b[0;34m\u001b[0m\n\u001b[1;32m      2\u001b[0m \u001b[0;34m\u001b[0m\u001b[0m\n\u001b[1;32m      3\u001b[0m \u001b[0;34m\u001b[0m\u001b[0m\n\u001b[0;32m----> 4\u001b[0;31m \u001b[0mx1\u001b[0m\u001b[0;34m,\u001b[0m \u001b[0mx2\u001b[0m \u001b[0;34m=\u001b[0m \u001b[0mchicharronera\u001b[0m\u001b[0;34m(\u001b[0m\u001b[0ma\u001b[0m\u001b[0;34m)\u001b[0m\u001b[0;34m\u001b[0m\u001b[0;34m\u001b[0m\u001b[0m\n\u001b[0m\u001b[1;32m      5\u001b[0m \u001b[0;34m\u001b[0m\u001b[0m\n\u001b[1;32m      6\u001b[0m \u001b[0mprint\u001b[0m\u001b[0;34m(\u001b[0m\u001b[0mx1\u001b[0m\u001b[0;34m,\u001b[0m \u001b[0mx2\u001b[0m\u001b[0;34m)\u001b[0m\u001b[0;34m\u001b[0m\u001b[0;34m\u001b[0m\u001b[0m\n",
      "\u001b[0;32m/var/folders/6y/42g8hr915b3dbgybzk8z69wh0000gn/T/ipykernel_31892/2289419315.py\u001b[0m in \u001b[0;36mchicharronera\u001b[0;34m(a)\u001b[0m\n\u001b[1;32m     23\u001b[0m \u001b[0;34m\u001b[0m\u001b[0m\n\u001b[1;32m     24\u001b[0m \u001b[0;34m\u001b[0m\u001b[0m\n\u001b[0;32m---> 25\u001b[0;31m         \u001b[0md\u001b[0m \u001b[0;34m=\u001b[0m \u001b[0ma\u001b[0m\u001b[0;34m[\u001b[0m\u001b[0;36m1\u001b[0m\u001b[0;34m]\u001b[0m\u001b[0;34m**\u001b[0m\u001b[0;36m2\u001b[0m \u001b[0;34m-\u001b[0m \u001b[0;36m4\u001b[0m \u001b[0;34m*\u001b[0m \u001b[0ma\u001b[0m\u001b[0;34m[\u001b[0m\u001b[0;36m0\u001b[0m\u001b[0;34m]\u001b[0m \u001b[0;34m*\u001b[0m \u001b[0ma\u001b[0m\u001b[0;34m[\u001b[0m\u001b[0;36m2\u001b[0m\u001b[0;34m]\u001b[0m\u001b[0;34m\u001b[0m\u001b[0;34m\u001b[0m\u001b[0m\n\u001b[0m\u001b[1;32m     26\u001b[0m \u001b[0;34m\u001b[0m\u001b[0m\n\u001b[1;32m     27\u001b[0m         \u001b[0;32mif\u001b[0m \u001b[0md\u001b[0m \u001b[0;34m>=\u001b[0m \u001b[0;36m0\u001b[0m\u001b[0;34m:\u001b[0m\u001b[0;34m\u001b[0m\u001b[0;34m\u001b[0m\u001b[0m\n",
      "\u001b[0;31mTypeError\u001b[0m: unsupported operand type(s) for ** or pow(): 'str' and 'int'"
     ]
    }
   ],
   "source": [
    "a = ['a', 'r', -9]\n",
    "\n",
    "\n",
    "x1, x2 = chicharronera(a)\n",
    "\n",
    "print(x1, x2)\n",
    "    "
   ]
  },
  {
   "cell_type": "markdown",
   "id": "7610c62b",
   "metadata": {},
   "source": [
    "### Ejercicio 3 (1 punto):\n",
    "\n",
    "*Caida libre*: El gran Galileo Galilei subió la torre de Pisa para determinar el tiempo que tarda un objeto en caer desde una altura $H$ al suelo. Para ello, colocó un objeto de masa $m=100$ kg en la torre y lo dejó caer. El tiempo que tardó en caer fue $t=0.05616667$ minutos.\n",
    "\n",
    "Considerando que la aceleración de la gravedad es $g=9.8$ $\\frac{m}{s^2}$, escribe un programa que determine la altura de la torre de Pisa. El programa debe imprimir la altura en la pantalla.\n",
    "\n",
    "Recuerda que el movimiento de caída libre simplificado cumple la ecuación: $y(t) = H + vt - \\frac{1}{2}gt^2$."
   ]
  },
  {
   "cell_type": "markdown",
   "id": "36568e00",
   "metadata": {},
   "source": [
    "Como la posición de la masa de 100 kg al tiempo $t_f = 0.05616667 [m]$ es cero considerando que $y(t)$ esta en el sistema de referencia en el cual la base de la torre esta en $y = 0$, entonces la altura de la que se soltó la masa debe estar descrita por \n",
    "\n",
    "\\begin{equation}\n",
    "H = \\frac{1}{2}gt_f^2-v_0t_f\n",
    "\\end{equation}\n",
    "\n",
    "Pero como la masa se soltó, entonces la velocidad inicial es cero, por lo que la altura estará determinada entonces por\n",
    "\n",
    "\\begin{equation}\n",
    "H = \\frac{1}{2}gt_f^2\n",
    "\\end{equation}"
   ]
  },
  {
   "cell_type": "code",
   "execution_count": 3,
   "id": "241764b6",
   "metadata": {},
   "outputs": [],
   "source": [
    "def altura(t_f, v_0):\n",
    "    \n",
    "    \"\"\"La función 'altura' toma como argumentos la velocidad inicial en metros/segundo y el tiempo en segundos.\\\n",
    "     Los dos parámetros deben ser valores flotantes.\"\"\"\n",
    "    \n",
    "    try:\n",
    "        t = float(t_f)\n",
    "    except:\n",
    "        print('El tiempo debe ser un valor flotante.')\n",
    "    else:\n",
    "        \n",
    "        try:\n",
    "            v = float(v_0)\n",
    "        except:\n",
    "            print('La velocidad debe ser un valor flotante')\n",
    "        else:\n",
    "            \n",
    "            H = (1/2)*(9.8)*t_f\n",
    "\n",
    "            return H   "
   ]
  },
  {
   "cell_type": "code",
   "execution_count": 12,
   "id": "83fd3eff",
   "metadata": {},
   "outputs": [
    {
     "name": "stdout",
     "output_type": "stream",
     "text": [
      ">Ingrese el tiempo en minutos:0.05616667\n",
      "La altura en metros de la torre de Pisa es de 16.51 metros aproximadamente.\n"
     ]
    }
   ],
   "source": [
    "t_f = float(input('>Ingrese el tiempo en minutos:')) * 60\n",
    "\n",
    "H = altura(t_f, 0)\n",
    "\n",
    "print('La altura en metros de la torre de Pisa es de {0:.4} metros aproximadamente.'.format(H))"
   ]
  },
  {
   "cell_type": "markdown",
   "id": "bf2d28e7",
   "metadata": {},
   "source": [
    "### Ejercicio 4 (1 punto):\n",
    "Crea una lista de números enteros del 0 al 99 : `lista = [0,1, 2, 3, 4, ... , 95, 96, 97, 98, 99]` (6 puntos menos si creas la lista manualmente).\n",
    " \n",
    "Escribe un programa que imprima en la pantalla una la lista que cumpla con las siguientes condiciones:\n",
    "* Los ultimos 10 elementos: debe imprimir lo siguiente `[90, 91, 92, 93, 94, 95, 96, 97, 98, 99]`.\n",
    "* Los primeros 11 elementos: debe imprimir lo siguiente `[0, 1, 2, 3, 4, 5, 6, 7, 8, 9, 10]`.\n",
    "* La serie de elementos de la lista que están entre 60 y 75: debe imprimir lo siguiente `[60, 61, 62, 63, 64, 65, 66, 67, 68, 69, 70, 71, 72, 73, 74, 75]`.\n",
    "* El número 50: debe imprimir lo siguiente `50`.\n",
    "\n",
    "Debes aplicar el concepto de *slicing* para resolver este ejercicio (notación de puntos `[:]`).\n",
    "\n",
    "Puntos menos si se crean listas nuevas para cada caso y/o se seleccionan manualmente los valores."
   ]
  },
  {
   "cell_type": "code",
   "execution_count": 13,
   "id": "7c8d481b",
   "metadata": {},
   "outputs": [
    {
     "name": "stdout",
     "output_type": "stream",
     "text": [
      "[0, 1, 2, 3, 4, 5, 6, 7, 8, 9, 10, 11, 12, 13, 14, 15, 16, 17, 18, 19, 20, 21, 22, 23, 24, 25, 26, 27, 28, 29, 30, 31, 32, 33, 34, 35, 36, 37, 38, 39, 40, 41, 42, 43, 44, 45, 46, 47, 48, 49, 50, 51, 52, 53, 54, 55, 56, 57, 58, 59, 60, 61, 62, 63, 64, 65, 66, 67, 68, 69, 70, 71, 72, 73, 74, 75, 76, 77, 78, 79, 80, 81, 82, 83, 84, 85, 86, 87, 88, 89, 90, 91, 92, 93, 94, 95, 96, 97, 98, 99]\n"
     ]
    }
   ],
   "source": [
    "lista = []\n",
    "\n",
    "for i in range(100):\n",
    "    lista.append(i)\n",
    "    \n",
    "print(lista)"
   ]
  },
  {
   "cell_type": "code",
   "execution_count": 30,
   "id": "633368ec",
   "metadata": {},
   "outputs": [
    {
     "name": "stdout",
     "output_type": "stream",
     "text": [
      "La lista con los últimos 10 elementos de la lista \"lista\" es: [90, 91, 92, 93, 94, 95, 96, 97, 98, 99]\n",
      "La lista con los primeros 11 elementos de la lista \"lista\" es: [0, 1, 2, 3, 4, 5, 6, 7, 8, 9, 10]\n",
      "La lista con los valores entre 60 y 75 a partir de la lista \"lista\" es: [60, 61, 62, 63, 64, 65, 66, 67, 68, 69, 70, 71, 72, 73, 74, 75]\n",
      "La lista con el número 50 a partir de la lista \"lista\" es: [50]\n"
     ]
    }
   ],
   "source": [
    "#Consideremos que el slicing A[n:m] de una lista A, considera los valores de esta en el intervalo semiabierto\n",
    "#[n,m), es decir considera sólo los valores de índices n≤i<m, considerando obviamente n,m € N\n",
    "\n",
    "#Lista con los últimos 10 elementos.\n",
    "lista1 = lista[90:100]\n",
    "print('La lista con los últimos 10 elementos de la lista \"lista\" es: {0:}'.format(lista1))\n",
    "\n",
    "#Lista con los primeros 11 elementos.\n",
    "lista2 = lista[0:11]\n",
    "print('La lista con los primeros 11 elementos de la lista \"lista\" es: {0:}'.format(lista2))\n",
    "\n",
    "#Lista con los valores entre 60 y 75, considerando 60 y 75.\n",
    "lista3 = lista[60:76] \n",
    "print('La lista con los valores entre 60 y 75 a partir de la lista \"lista\" es: {0:}'.format(lista3))\n",
    "\n",
    "#Lista con el número 50.\n",
    "lista4 = lista[50:51]\n",
    "print('La lista con el número 50 a partir de la lista \"lista\" es: {0:}'.format(lista4))"
   ]
  },
  {
   "cell_type": "markdown",
   "id": "ac5b94d8",
   "metadata": {},
   "source": [
    "### Ejercicio 5 (1 punto):\n",
    "Crea una lista de números enteros del 0 al 1000. A partir de dicha lista:\n",
    "* Guarda en una variable una lista con los números pares usando ciclos y condicionales. Imprime los últimos 10 elementos de la lista final.\n",
    "* Guarda en una variable una lista con los números impares usando listas comprensivas (comprehension list). Imprime los primeros 10 elementos de la lista final."
   ]
  },
  {
   "cell_type": "code",
   "execution_count": 35,
   "id": "b43b0527",
   "metadata": {},
   "outputs": [],
   "source": [
    "L = []\n",
    "\n",
    "for i in range(1001):\n",
    "    L.append(i)"
   ]
  },
  {
   "cell_type": "code",
   "execution_count": 40,
   "id": "2e95e162",
   "metadata": {},
   "outputs": [
    {
     "name": "stdout",
     "output_type": "stream",
     "text": [
      "La lista con números pares está guardada en la variable P\n",
      "La lista con números pares está guardada en la variable I\n",
      "Los últimos 10 elementos de la lista I es [981, 983, 985, 987, 989, 991, 993, 995, 997, 999]\n"
     ]
    }
   ],
   "source": [
    "P = []\n",
    "I = []\n",
    "\n",
    "for x in L:\n",
    "    if x%2 == 0:\n",
    "        P.append(x)\n",
    "    else:\n",
    "        I.append(x)\n",
    "        \n",
    "print('La lista con números pares está guardada en la variable P')\n",
    "print('La lista con números pares está guardada en la variable I')\n",
    "print('Los últimos 10 elementos de la lista I es {0:}'.format(I[len(I)-10:len(I)]))\n",
    "    "
   ]
  },
  {
   "cell_type": "markdown",
   "id": "00462693",
   "metadata": {},
   "source": [
    "### Ejercicio 6 (2 puntos): Aproximación de $\\pi$\n",
    "Una de las formas más sencillas de aproximar $\\pi$ es mediante la siguiente serie infinita de Leibniz:\n",
    "$$\\frac{\\pi}{4} = \\sum_{n=0}^{\\infty}\\frac{(-1)^{n}}{(2n+1)} = \\frac{1}{1} - \\frac{1}{3} + \\frac{1}{5}-\\frac{1}{7}+\\frac{1}{9}-...$$\n",
    "\n",
    "crea una función para aproximar $\\pi$ utilizando la serie de Leibniz. Usa n = 100000 e imprime el valor de tu aproximación tanto el valor de $\\frac{\\pi}{4}$ como $\\pi$.\n",
    "\n",
    "El valor de $\\pi$ se obtiene al despejar:\n",
    "$$\\pi = 4 * \\left(\\sum_{n=0}^{\\infty}\\frac{(-1)^{n}}{(2n+1)} \\right)$$\n",
    "\n",
    "La siguiente celda de codigo ofrece el valor de $\\frac{\\pi}{4}$"
   ]
  },
  {
   "cell_type": "code",
   "execution_count": 1,
   "id": "a4a31d07",
   "metadata": {},
   "outputs": [
    {
     "name": "stdout",
     "output_type": "stream",
     "text": [
      "El valor de pi/4 es aproximadamente 0.7853981633974483\n"
     ]
    }
   ],
   "source": [
    "import numpy as np\n",
    "#El valor de pi/4\n",
    "print(\"El valor de pi/4 es aproximadamente {}\".format(np.pi/4))"
   ]
  },
  {
   "cell_type": "code",
   "execution_count": 53,
   "id": "7589bc2f",
   "metadata": {},
   "outputs": [],
   "source": [
    "#Definimos la función que nos regresa el elemento n-ésimo de la sucesión de sumas parciales que converge a Pi/4\n",
    "def Leibniz(n):\n",
    "    \n",
    "    \"\"\"Esta función recibe el número de elementos de la serie infinita de Leibniz para aproximar el valor de\\\n",
    "    pi/4. n debe ser un valor entero, pues es el índice del elemento n de la sucesión de sumas parciales.\"\"\"\n",
    "    \n",
    "    S_n = 0\n",
    "    \n",
    "    for i in range(0, n+1):\n",
    "        S_n += ((-1)**i)/(2 * i + 1)\n",
    "        \n",
    "    return S_n"
   ]
  },
  {
   "cell_type": "code",
   "execution_count": 64,
   "id": "b70cc973",
   "metadata": {},
   "outputs": [
    {
     "name": "stdout",
     "output_type": "stream",
     "text": [
      "El valor aproximado de Pi/4 es: 0.7854006633724301\n",
      "El valor aproximado de Pi es: 3.1416026534897203\n"
     ]
    }
   ],
   "source": [
    "#Valor aproximado de Pi/4\n",
    "S_n = Leibniz(100000)\n",
    "print('El valor aproximado de Pi/4 es: {0:}'.format(S_n))\n",
    "\n",
    "#El valor aproximado de Pi es \n",
    "print('El valor aproximado de Pi es: {0:}'.format(4*S_n))"
   ]
  },
  {
   "cell_type": "markdown",
   "id": "d0c28e6e",
   "metadata": {},
   "source": [
    "### Ejercicio 7 (1 puntos): Identificador de vocales\n",
    "\n",
    "Escribe una función que reciba una cadena, por ejemplo 'el pErro de la tiA chOnita' y regrese la cantidad de vocales que contiene. La función debe contener varios casos de prueba, if, elif y else. Con la cadena de ejemplo, imprime en pantalla el resultado de la función (10).\n",
    "\n",
    "Para conocer si un caracter es una vocal, primero debes descomponer la cadena en caracteres individuales. Para ello observa el siguiente código:"
   ]
  },
  {
   "cell_type": "code",
   "execution_count": 65,
   "id": "55a65e0f",
   "metadata": {},
   "outputs": [
    {
     "name": "stdout",
     "output_type": "stream",
     "text": [
      "['e', 'l', ' ', 'p', 'E', 'r', 'r', 'o', ' ', 'd', 'e', ' ', 'l', 'a', ' ', 't', 'i', 'A', ' ', 'c', 'h', 'O', 'n', 'i', 't', 'a']\n"
     ]
    }
   ],
   "source": [
    "# Divide una cadena en caracteres individuales\n",
    "cadena_prueba = 'el pErro de la tiA chOnita'\n",
    "caracteres_individuales = list(cadena_prueba)\n",
    "print(caracteres_individuales)"
   ]
  },
  {
   "cell_type": "code",
   "execution_count": 69,
   "id": "e85f54e9",
   "metadata": {},
   "outputs": [],
   "source": [
    "def vocales(a):\n",
    "    \n",
    "    c = list(a)\n",
    "    \n",
    "    i = 0\n",
    "    \n",
    "    for letra in c:\n",
    "        \n",
    "        if letra == 'a' or letra == 'A':\n",
    "            i += 1\n",
    "            \n",
    "        elif letra == 'e' or letra == 'E':\n",
    "            i += 1\n",
    "            \n",
    "        elif letra == 'i' or letra == 'I':\n",
    "            i += 1\n",
    "            \n",
    "        elif letra == 'o' or letra == 'O':\n",
    "            i += 1\n",
    "        \n",
    "        elif letra == 'u' or letra == 'U':\n",
    "            i += 1\n",
    "            \n",
    "        else:\n",
    "            continue\n",
    "            \n",
    "    return i"
   ]
  },
  {
   "cell_type": "code",
   "execution_count": 72,
   "id": "0fe22627",
   "metadata": {},
   "outputs": [
    {
     "name": "stdout",
     "output_type": "stream",
     "text": [
      "5\n"
     ]
    }
   ],
   "source": [
    "a = 'abcdefghijklmnopqrstuvwxyz'\n",
    "\n",
    "n = vocales(a)\n",
    "\n",
    "print(n)"
   ]
  },
  {
   "cell_type": "markdown",
   "id": "fb89fa24",
   "metadata": {},
   "source": [
    "### Ejercicio 8 (2 puntos):\n",
    "\n",
    "Escribe una clase \"calculadora\" que regrese el resultado de las operaciones de suma, resta, multiplicacion, division, modulo y potencia. La clase debe contener un método para cada operación.\n",
    "\n",
    "Los métodos que pudiesen presentar errores como division entre cero, deben ser manejados de tal manera que el programa no imprima ningun error (vimos una clausula para hacer esto).\n",
    "\n",
    "Adicional a esto, los métodos modulo y potencia deben ser generales, es decir, deben funcionar para cualquier número entero positivo (es un parámetro extra del método). Por ejemplo, la potencia de 2 elevado a 3 es 8, la potencia de 5 elevado a 3 es 125, etc.\n",
    "\n",
    "Crea una instancia de la clase calculadora y prueba cada uno de los métodos, con valores de tu elección. Para los métodos que pudiesen presentar errores da dos ejemplos, uno totalmente funcional (3/5 por ejemplo) y otro que sea conflictivo pero que no regresa ningún error (4/0 por ejemplo)."
   ]
  },
  {
   "cell_type": "code",
   "execution_count": 75,
   "id": "d2a826bb",
   "metadata": {},
   "outputs": [
    {
     "name": "stdout",
     "output_type": "stream",
     "text": [
      "Enter First number : 4\n",
      "Enter Second number : -2\n",
      "1. Suma \n",
      "2. Resta \n",
      "3. Multiplicación \n",
      "4. División \n",
      "5. Potencia \n",
      "6. Módulo\n",
      "Seleccione una opción : 5\n",
      "Result:  0.0625\n",
      "1. Suma \n",
      "2. Resta \n",
      "3. Multiplicación \n",
      "4. División \n",
      "5. Potencia \n",
      "6. Módulo\n"
     ]
    },
    {
     "ename": "KeyboardInterrupt",
     "evalue": "Interrupted by user",
     "output_type": "error",
     "traceback": [
      "\u001b[0;31m---------------------------------------------------------------------------\u001b[0m",
      "\u001b[0;31mKeyboardInterrupt\u001b[0m                         Traceback (most recent call last)",
      "\u001b[0;32m/var/folders/6y/42g8hr915b3dbgybzk8z69wh0000gn/T/ipykernel_32324/2941831192.py\u001b[0m in \u001b[0;36m<module>\u001b[0;34m\u001b[0m\n\u001b[1;32m     25\u001b[0m         \u001b[0mprint\u001b[0m\u001b[0;34m(\u001b[0m\u001b[0mx\u001b[0m\u001b[0;34m)\u001b[0m\u001b[0;34m\u001b[0m\u001b[0;34m\u001b[0m\u001b[0m\n\u001b[1;32m     26\u001b[0m     \u001b[0mmenu\u001b[0m\u001b[0;34m(\u001b[0m\u001b[0;34m)\u001b[0m\u001b[0;34m\u001b[0m\u001b[0;34m\u001b[0m\u001b[0m\n\u001b[0;32m---> 27\u001b[0;31m     \u001b[0mchoice\u001b[0m \u001b[0;34m=\u001b[0m \u001b[0mint\u001b[0m\u001b[0;34m(\u001b[0m\u001b[0minput\u001b[0m\u001b[0;34m(\u001b[0m\u001b[0;34m'Seleccione una opción : '\u001b[0m\u001b[0;34m)\u001b[0m\u001b[0;34m)\u001b[0m\u001b[0;34m\u001b[0m\u001b[0;34m\u001b[0m\u001b[0m\n\u001b[0m\u001b[1;32m     28\u001b[0m     \u001b[0;32mif\u001b[0m \u001b[0mchoice\u001b[0m \u001b[0;34m==\u001b[0m \u001b[0;36m1\u001b[0m\u001b[0;34m:\u001b[0m\u001b[0;34m\u001b[0m\u001b[0;34m\u001b[0m\u001b[0m\n\u001b[1;32m     29\u001b[0m         \u001b[0mprint\u001b[0m\u001b[0;34m(\u001b[0m\u001b[0;34m\"Result: \"\u001b[0m\u001b[0;34m,\u001b[0m\u001b[0mobj\u001b[0m\u001b[0;34m.\u001b[0m\u001b[0madd\u001b[0m\u001b[0;34m(\u001b[0m\u001b[0;34m)\u001b[0m\u001b[0;34m)\u001b[0m\u001b[0;34m\u001b[0m\u001b[0;34m\u001b[0m\u001b[0m\n",
      "\u001b[0;32m~/opt/anaconda3/lib/python3.9/site-packages/ipykernel/kernelbase.py\u001b[0m in \u001b[0;36mraw_input\u001b[0;34m(self, prompt)\u001b[0m\n\u001b[1;32m   1004\u001b[0m                 \u001b[0;34m\"raw_input was called, but this frontend does not support input requests.\"\u001b[0m\u001b[0;34m\u001b[0m\u001b[0;34m\u001b[0m\u001b[0m\n\u001b[1;32m   1005\u001b[0m             )\n\u001b[0;32m-> 1006\u001b[0;31m         return self._input_request(\n\u001b[0m\u001b[1;32m   1007\u001b[0m             \u001b[0mstr\u001b[0m\u001b[0;34m(\u001b[0m\u001b[0mprompt\u001b[0m\u001b[0;34m)\u001b[0m\u001b[0;34m,\u001b[0m\u001b[0;34m\u001b[0m\u001b[0;34m\u001b[0m\u001b[0m\n\u001b[1;32m   1008\u001b[0m             \u001b[0mself\u001b[0m\u001b[0;34m.\u001b[0m\u001b[0m_parent_ident\u001b[0m\u001b[0;34m[\u001b[0m\u001b[0;34m\"shell\"\u001b[0m\u001b[0;34m]\u001b[0m\u001b[0;34m,\u001b[0m\u001b[0;34m\u001b[0m\u001b[0;34m\u001b[0m\u001b[0m\n",
      "\u001b[0;32m~/opt/anaconda3/lib/python3.9/site-packages/ipykernel/kernelbase.py\u001b[0m in \u001b[0;36m_input_request\u001b[0;34m(self, prompt, ident, parent, password)\u001b[0m\n\u001b[1;32m   1049\u001b[0m             \u001b[0;32mexcept\u001b[0m \u001b[0mKeyboardInterrupt\u001b[0m\u001b[0;34m:\u001b[0m\u001b[0;34m\u001b[0m\u001b[0;34m\u001b[0m\u001b[0m\n\u001b[1;32m   1050\u001b[0m                 \u001b[0;31m# re-raise KeyboardInterrupt, to truncate traceback\u001b[0m\u001b[0;34m\u001b[0m\u001b[0;34m\u001b[0m\u001b[0m\n\u001b[0;32m-> 1051\u001b[0;31m                 \u001b[0;32mraise\u001b[0m \u001b[0mKeyboardInterrupt\u001b[0m\u001b[0;34m(\u001b[0m\u001b[0;34m\"Interrupted by user\"\u001b[0m\u001b[0;34m)\u001b[0m \u001b[0;32mfrom\u001b[0m \u001b[0;32mNone\u001b[0m\u001b[0;34m\u001b[0m\u001b[0;34m\u001b[0m\u001b[0m\n\u001b[0m\u001b[1;32m   1052\u001b[0m             \u001b[0;32mexcept\u001b[0m \u001b[0mException\u001b[0m\u001b[0;34m:\u001b[0m\u001b[0;34m\u001b[0m\u001b[0;34m\u001b[0m\u001b[0m\n\u001b[1;32m   1053\u001b[0m                 \u001b[0mself\u001b[0m\u001b[0;34m.\u001b[0m\u001b[0mlog\u001b[0m\u001b[0;34m.\u001b[0m\u001b[0mwarning\u001b[0m\u001b[0;34m(\u001b[0m\u001b[0;34m\"Invalid Message:\"\u001b[0m\u001b[0;34m,\u001b[0m \u001b[0mexc_info\u001b[0m\u001b[0;34m=\u001b[0m\u001b[0;32mTrue\u001b[0m\u001b[0;34m)\u001b[0m\u001b[0;34m\u001b[0m\u001b[0;34m\u001b[0m\u001b[0m\n",
      "\u001b[0;31mKeyboardInterrupt\u001b[0m: Interrupted by user"
     ]
    }
   ],
   "source": [
    "class cal():\n",
    "    def __init__(self,a,b):\n",
    "        self.a = a\n",
    "        self.b = b\n",
    "    def add(self):\n",
    "        return self.a + self.b\n",
    "    def sub(self):\n",
    "        return self.a - self.b\n",
    "    def multiply(self):\n",
    "        return self.a * self.b\n",
    "    def divide(self):\n",
    "        return self.a / self.b\n",
    "    def power(self):\n",
    "        return self.a ** self.b\n",
    "    def module(self):\n",
    "        return self.a % self.b\n",
    "    \n",
    "    \n",
    "a = int(input('Enter First number : '))\n",
    "b = int(input('Enter Second number : '))        \n",
    "obj=cal(a,b)\n",
    "while True:\n",
    "    def menu():\n",
    "        x = ('1. Suma \\n2. Resta \\n3. Multiplicación \\n4. División \\n5. Potencia \\n6. Módulo') \n",
    "        print(x)\n",
    "    menu()\n",
    "    choice = int(input('Seleccione una opción : ')) \n",
    "    if choice == 1:\n",
    "        print(\"Result: \",obj.add())\n",
    "    elif choice == 2:\n",
    "        print(\"Result: \",obj.sub())\n",
    "    elif choice == 3:\n",
    "        print(\"Result: \",obj.multiply())    \n",
    "    elif choice == 4:\n",
    "        print(\"Result: \",obj.divide())\n",
    "    elif choice == 5:\n",
    "        print(\"Result: \",obj.power())\n",
    "    elif choice == 6:\n",
    "        print(\"Result: \",obj.module())\n",
    "    elif choice == 0:\n",
    "        print('Again try one of the following')\n",
    "        break\n",
    "    else:\n",
    "        print('Invalid option') \n",
    "        break       \n",
    "print()"
   ]
  },
  {
   "cell_type": "markdown",
   "id": "c6e4da53",
   "metadata": {},
   "source": [
    "### Ejercicio de puntos extras opcional (1 punto):\n",
    "\n",
    "Supóngamos que tenemos una lista de números enteros y queremos encontrar el número más grande. Por ejemplo, si la lista es `[1, 2, 3, 4, 5]` el número más grande es 5. Crea una función que encuentre el número más grande en una lista de números. La función debe regresar el número más grande y el índice en el que se encuentra. Prueba la función con una lista de números de tu elección."
   ]
  },
  {
   "cell_type": "code",
   "execution_count": 76,
   "id": "fddd6194",
   "metadata": {},
   "outputs": [],
   "source": [
    "def máximo(a):\n",
    "    return max(a)"
   ]
  },
  {
   "cell_type": "code",
   "execution_count": 77,
   "id": "06c26d93",
   "metadata": {},
   "outputs": [
    {
     "name": "stdout",
     "output_type": "stream",
     "text": [
      "420\n"
     ]
    }
   ],
   "source": [
    "a = [66, 420, 300, -6]\n",
    "print(máximo(a))"
   ]
  },
  {
   "cell_type": "markdown",
   "id": "525883b3",
   "metadata": {},
   "source": [
    "### Ejercicio de puntos extras opcional (3 puntos):\n",
    "\n",
    "Supóngamos que tenemos un dado convencional de 6 caras. Crea una función que simule el lanzamiento de un dado. La función debe regresar un número aleatorio entre 1 y 6.\n",
    "\n",
    "Sabemos que la probabilidad de que salga un número es de $\\frac{1}{6}$, es decir, la probabilidad de que salga un 1 es de $\\frac{1}{6}$, la probabilidad de que salga un 2 es de $\\frac{1}{6}$, etc.\n",
    "\n",
    "* Prueba la función con 6 lanzamientos, en una celda markdown explica porqué el resultado es dificilmente [1, 2, 3, 4, 5, 6].\n",
    "\n",
    "* Prueba la función con 1000 lanzamientos, crea una grafica de barras de los resultados (investiga como puedes graficar los resultados en una grafica de barras) y explica a que distribucion se parece y porqué es así.\n",
    "\n",
    "Hint: Para crear los números aleatorios, puedes usar la función `random.randint()`. O bien, usar el modulo numpy para crearlos. Para graficar los resultados, puedes usar la libreria matplotlib, seaborn, plotly o cualquiera que se te haga más fácil."
   ]
  },
  {
   "cell_type": "code",
   "execution_count": null,
   "id": "3383261c",
   "metadata": {},
   "outputs": [],
   "source": [
    "def dado()"
   ]
  }
 ],
 "metadata": {
  "kernelspec": {
   "display_name": "Python 3 (ipykernel)",
   "language": "python",
   "name": "python3"
  },
  "language_info": {
   "codemirror_mode": {
    "name": "ipython",
    "version": 3
   },
   "file_extension": ".py",
   "mimetype": "text/x-python",
   "name": "python",
   "nbconvert_exporter": "python",
   "pygments_lexer": "ipython3",
   "version": "3.9.7"
  },
  "vscode": {
   "interpreter": {
    "hash": "ad2bdc8ecc057115af97d19610ffacc2b4e99fae6737bb82f5d7fb13d2f2c186"
   }
  }
 },
 "nbformat": 4,
 "nbformat_minor": 5
}
